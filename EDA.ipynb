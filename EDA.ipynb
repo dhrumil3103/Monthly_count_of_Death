{
  "nbformat": 4,
  "nbformat_minor": 0,
  "metadata": {
    "colab": {
      "name": "project_part_3.ipynb",
      "provenance": [],
      "collapsed_sections": []
    },
    "kernelspec": {
      "name": "python3",
      "display_name": "Python 3"
    },
    "language_info": {
      "name": "python"
    }
  },
  "cells": [
    {
      "cell_type": "markdown",
      "metadata": {
        "id": "UQ5H-zJc12gz"
      },
      "source": [
        "Exploratory Data Analysis"
      ]
    },
    {
      "cell_type": "code",
      "metadata": {
        "id": "7kPqwTnaV6bE",
        "colab": {
          "base_uri": "https://localhost:8080/"
        },
        "outputId": "13314ac1-5f24-48cc-d562-31dc99aeabdf"
      },
      "source": [
        "!pip install empiricaldist\n",
        "import empiricaldist as emp"
      ],
      "execution_count": null,
      "outputs": [
        {
          "output_type": "stream",
          "text": [
            "Collecting empiricaldist\n",
            "  Downloading https://files.pythonhosted.org/packages/64/ce/732891161f5ca77d8a50616ad3081ec307bddcaa5ad604702bdb2f7654ad/empiricaldist-0.6.1.tar.gz\n",
            "Building wheels for collected packages: empiricaldist\n",
            "  Building wheel for empiricaldist (setup.py) ... \u001b[?25l\u001b[?25hdone\n",
            "  Created wheel for empiricaldist: filename=empiricaldist-0.6.1-cp37-none-any.whl size=10629 sha256=b6ada3c40b60bbe74c9a2d80c496692acbb224dfa670a45dd1ba0c347a7923ca\n",
            "  Stored in directory: /root/.cache/pip/wheels/9d/93/b1/92742aa428b2a83dd6aa6ece18a908f7e38c15895b1c37a462\n",
            "Successfully built empiricaldist\n",
            "Installing collected packages: empiricaldist\n",
            "Successfully installed empiricaldist-0.6.1\n"
          ],
          "name": "stdout"
        }
      ]
    },
    {
      "cell_type": "markdown",
      "metadata": {
        "id": "xGL5nNzc2DMd"
      },
      "source": [
        "Mount google drive"
      ]
    },
    {
      "cell_type": "code",
      "metadata": {
        "colab": {
          "base_uri": "https://localhost:8080/"
        },
        "id": "sZuOUtVnz_-b",
        "outputId": "98f5be0d-772c-41e7-e1f1-4e42b69b4426"
      },
      "source": [
        "from google.colab import drive\n",
        "drive.mount('/content/drive')"
      ],
      "execution_count": null,
      "outputs": [
        {
          "output_type": "stream",
          "text": [
            "Mounted at /content/drive\n"
          ],
          "name": "stdout"
        }
      ]
    },
    {
      "cell_type": "markdown",
      "metadata": {
        "id": "DkmBMl992JVu"
      },
      "source": [
        "load library"
      ]
    },
    {
      "cell_type": "code",
      "metadata": {
        "id": "71GULMzT08xM"
      },
      "source": [
        "import pandas as pd\n",
        "import numpy as np\n",
        "from matplotlib import pyplot as plt\n",
        "%matplotlib inline"
      ],
      "execution_count": null,
      "outputs": []
    },
    {
      "cell_type": "markdown",
      "metadata": {
        "id": "UjGExfvL2bZG"
      },
      "source": [
        "Load the csv file"
      ]
    },
    {
      "cell_type": "code",
      "metadata": {
        "colab": {
          "base_uri": "https://localhost:8080/",
          "height": 282
        },
        "id": "NEIvha8p1C4F",
        "outputId": "0a3c238f-d209-42c2-f8f0-da3c36e1a699"
      },
      "source": [
        "df = pd.read_csv(\"/content/drive/MyDrive/AH_Monthly_provisional_counts_of_deaths_by_age_group__sex__and_race_ethnicity_for_select_causes_of_death (1).csv\", index_col=0)\n",
        "df.head()"
      ],
      "execution_count": null,
      "outputs": [
        {
          "output_type": "execute_result",
          "data": {
            "text/html": [
              "<div>\n",
              "<style scoped>\n",
              "    .dataframe tbody tr th:only-of-type {\n",
              "        vertical-align: middle;\n",
              "    }\n",
              "\n",
              "    .dataframe tbody tr th {\n",
              "        vertical-align: top;\n",
              "    }\n",
              "\n",
              "    .dataframe thead th {\n",
              "        text-align: right;\n",
              "    }\n",
              "</style>\n",
              "<table border=\"1\" class=\"dataframe\">\n",
              "  <thead>\n",
              "    <tr style=\"text-align: right;\">\n",
              "      <th></th>\n",
              "      <th>Date.Of.Death.Year</th>\n",
              "      <th>Date.Of.Death.Month</th>\n",
              "      <th>Sex</th>\n",
              "      <th>Race.Ethnicity</th>\n",
              "      <th>AgeGroup</th>\n",
              "      <th>AllCause</th>\n",
              "      <th>NaturalCause</th>\n",
              "      <th>Septicemia..A40.A41.</th>\n",
              "      <th>Malignant.neoplasms..C00.C97.</th>\n",
              "      <th>Diabetes.mellitus..E10.E14.</th>\n",
              "      <th>Alzheimer.disease..G30.</th>\n",
              "      <th>Influenza.and.pneumonia..J09.J18.</th>\n",
              "      <th>Chronic.lower.respiratory.diseases..J40.J47.</th>\n",
              "      <th>Other.diseases.of.respiratory.system..J00.J06.J30.J39.J67.J70.J98.</th>\n",
              "      <th>Nephritis..nephrotic.syndrome.and.nephrosis..N00.N07.N17.N19.N25.N27.</th>\n",
              "      <th>Symptoms..signs.and.abnormal.clinical.and.laboratory.findings..not.elsewhere.classified..R00.R99.</th>\n",
              "      <th>Diseases.of.heart..I00.I09.I11.I13.I20.I51.</th>\n",
              "      <th>Cerebrovascular.diseases..I60.I69.</th>\n",
              "      <th>COVID.19..U071..Multiple.Cause.of.Death.</th>\n",
              "      <th>COVID.19..U071..Underlying.Cause.of.Death.</th>\n",
              "      <th>Start.Date</th>\n",
              "      <th>End.Date</th>\n",
              "      <th>Jurisdiction.of.Occurrence</th>\n",
              "    </tr>\n",
              "  </thead>\n",
              "  <tbody>\n",
              "    <tr>\n",
              "      <th>1</th>\n",
              "      <td>2019</td>\n",
              "      <td>1</td>\n",
              "      <td>F</td>\n",
              "      <td>Hispanic</td>\n",
              "      <td>0-4 years</td>\n",
              "      <td>182.0</td>\n",
              "      <td>162.0</td>\n",
              "      <td>NaN</td>\n",
              "      <td>NaN</td>\n",
              "      <td>0.0</td>\n",
              "      <td>0.0</td>\n",
              "      <td>NaN</td>\n",
              "      <td>0.0</td>\n",
              "      <td>NaN</td>\n",
              "      <td>0.0</td>\n",
              "      <td>22.0</td>\n",
              "      <td>NaN</td>\n",
              "      <td>0.0</td>\n",
              "      <td>0.0</td>\n",
              "      <td>0.0</td>\n",
              "      <td>01/01/2019</td>\n",
              "      <td>01/31/2019</td>\n",
              "      <td>United States</td>\n",
              "    </tr>\n",
              "    <tr>\n",
              "      <th>2</th>\n",
              "      <td>2019</td>\n",
              "      <td>1</td>\n",
              "      <td>F</td>\n",
              "      <td>Hispanic</td>\n",
              "      <td>5-14 years</td>\n",
              "      <td>44.0</td>\n",
              "      <td>28.0</td>\n",
              "      <td>NaN</td>\n",
              "      <td>NaN</td>\n",
              "      <td>NaN</td>\n",
              "      <td>0.0</td>\n",
              "      <td>NaN</td>\n",
              "      <td>NaN</td>\n",
              "      <td>0.0</td>\n",
              "      <td>0.0</td>\n",
              "      <td>0.0</td>\n",
              "      <td>0.0</td>\n",
              "      <td>0.0</td>\n",
              "      <td>0.0</td>\n",
              "      <td>0.0</td>\n",
              "      <td>01/01/2019</td>\n",
              "      <td>01/31/2019</td>\n",
              "      <td>United States</td>\n",
              "    </tr>\n",
              "    <tr>\n",
              "      <th>3</th>\n",
              "      <td>2019</td>\n",
              "      <td>1</td>\n",
              "      <td>F</td>\n",
              "      <td>Hispanic</td>\n",
              "      <td>15-24 years</td>\n",
              "      <td>122.0</td>\n",
              "      <td>45.0</td>\n",
              "      <td>0.0</td>\n",
              "      <td>NaN</td>\n",
              "      <td>NaN</td>\n",
              "      <td>0.0</td>\n",
              "      <td>0.0</td>\n",
              "      <td>NaN</td>\n",
              "      <td>NaN</td>\n",
              "      <td>NaN</td>\n",
              "      <td>NaN</td>\n",
              "      <td>NaN</td>\n",
              "      <td>NaN</td>\n",
              "      <td>0.0</td>\n",
              "      <td>0.0</td>\n",
              "      <td>01/01/2019</td>\n",
              "      <td>01/31/2019</td>\n",
              "      <td>United States</td>\n",
              "    </tr>\n",
              "    <tr>\n",
              "      <th>4</th>\n",
              "      <td>2019</td>\n",
              "      <td>1</td>\n",
              "      <td>F</td>\n",
              "      <td>Hispanic</td>\n",
              "      <td>25-34 years</td>\n",
              "      <td>198.0</td>\n",
              "      <td>100.0</td>\n",
              "      <td>NaN</td>\n",
              "      <td>29.0</td>\n",
              "      <td>NaN</td>\n",
              "      <td>0.0</td>\n",
              "      <td>NaN</td>\n",
              "      <td>NaN</td>\n",
              "      <td>NaN</td>\n",
              "      <td>0.0</td>\n",
              "      <td>NaN</td>\n",
              "      <td>NaN</td>\n",
              "      <td>NaN</td>\n",
              "      <td>0.0</td>\n",
              "      <td>0.0</td>\n",
              "      <td>01/01/2019</td>\n",
              "      <td>01/31/2019</td>\n",
              "      <td>United States</td>\n",
              "    </tr>\n",
              "    <tr>\n",
              "      <th>5</th>\n",
              "      <td>2019</td>\n",
              "      <td>1</td>\n",
              "      <td>F</td>\n",
              "      <td>Hispanic</td>\n",
              "      <td>35-44 years</td>\n",
              "      <td>334.0</td>\n",
              "      <td>260.0</td>\n",
              "      <td>NaN</td>\n",
              "      <td>96.0</td>\n",
              "      <td>NaN</td>\n",
              "      <td>0.0</td>\n",
              "      <td>11.0</td>\n",
              "      <td>NaN</td>\n",
              "      <td>NaN</td>\n",
              "      <td>NaN</td>\n",
              "      <td>NaN</td>\n",
              "      <td>25.0</td>\n",
              "      <td>10.0</td>\n",
              "      <td>0.0</td>\n",
              "      <td>0.0</td>\n",
              "      <td>01/01/2019</td>\n",
              "      <td>01/31/2019</td>\n",
              "      <td>United States</td>\n",
              "    </tr>\n",
              "  </tbody>\n",
              "</table>\n",
              "</div>"
            ],
            "text/plain": [
              "   Date.Of.Death.Year  ...  Jurisdiction.of.Occurrence\n",
              "1                2019  ...               United States\n",
              "2                2019  ...               United States\n",
              "3                2019  ...               United States\n",
              "4                2019  ...               United States\n",
              "5                2019  ...               United States\n",
              "\n",
              "[5 rows x 23 columns]"
            ]
          },
          "metadata": {
            "tags": []
          },
          "execution_count": 4
        }
      ]
    },
    {
      "cell_type": "code",
      "metadata": {
        "colab": {
          "base_uri": "https://localhost:8080/"
        },
        "id": "2RFeBlcT1YI3",
        "outputId": "0e4c0ccf-f36c-432b-bf5d-6ae619d884e3"
      },
      "source": [
        "df['NaturalCause'].value_counts().sort_index()"
      ],
      "execution_count": null,
      "outputs": [
        {
          "output_type": "execute_result",
          "data": {
            "text/plain": [
              "0.0        13\n",
              "10.0       14\n",
              "11.0       14\n",
              "12.0       15\n",
              "13.0       10\n",
              "           ..\n",
              "41621.0     1\n",
              "43113.0     1\n",
              "43130.0     1\n",
              "48025.0     1\n",
              "52054.0     1\n",
              "Name: NaturalCause, Length: 1288, dtype: int64"
            ]
          },
          "metadata": {
            "tags": []
          },
          "execution_count": 5
        }
      ]
    },
    {
      "cell_type": "code",
      "metadata": {
        "colab": {
          "base_uri": "https://localhost:8080/"
        },
        "id": "y8YnnVc_20mQ",
        "outputId": "4c59ab2a-3882-4a2e-8808-6b823fc78992"
      },
      "source": [
        "\n",
        "df['NaturalCause'].describe()\n",
        "df.NaturalCause.isnull().sum()"
      ],
      "execution_count": null,
      "outputs": [
        {
          "output_type": "execute_result",
          "data": {
            "text/plain": [
              "283"
            ]
          },
          "metadata": {
            "tags": []
          },
          "execution_count": 6
        }
      ]
    },
    {
      "cell_type": "markdown",
      "metadata": {
        "id": "Or-6ZMZ8afgx"
      },
      "source": [
        "**Univariate**"
      ]
    },
    {
      "cell_type": "markdown",
      "metadata": {
        "id": "2yAP9MCTKLw7"
      },
      "source": [
        "histrogram for Natural cause "
      ]
    },
    {
      "cell_type": "code",
      "metadata": {
        "colab": {
          "base_uri": "https://localhost:8080/",
          "height": 279
        },
        "id": "6ReMib8v3HI3",
        "outputId": "12656a4c-7c71-43db-b76c-bae4e0e63ed3"
      },
      "source": [
        "plt.hist(df.NaturalCause, rwidth = 0.5)\n",
        "plt.xlabel('Death')\n",
        "plt.ylabel('count')\n",
        "plt.show() \n"
      ],
      "execution_count": null,
      "outputs": [
        {
          "output_type": "display_data",
          "data": {
            "image/png": "[encoded data removed]",
            "text/plain": [
              "<Figure size 432x288 with 1 Axes>"
            ]
          },
          "metadata": {
            "tags": [],
            "needs_background": "light"
          }
        }
      ]
    },
    {
      "cell_type": "markdown",
      "metadata": {
        "id": "CmTmCiMvavxP"
      },
      "source": [
        "from the above graph we can see that a little right skewness is observed. Also we can see that an unusual observions around 25000 death count."
      ]
    },
    {
      "cell_type": "markdown",
      "metadata": {
        "id": "m8LtIOQwBFb5"
      },
      "source": [
        "Removing Skewness of the column NaturalCause "
      ]
    },
    {
      "cell_type": "code",
      "metadata": {
        "colab": {
          "base_uri": "https://localhost:8080/",
          "height": 283
        },
        "id": "uUwudy2Qyfjk",
        "outputId": "8dd0a3b1-9c96-474e-d0e4-8666fccd7c1d"
      },
      "source": [
        "l_NaturalCause = df.NaturalCause.dropna()\n",
        "l_NaturalCause = np.log10(l_NaturalCause+1)\n",
        "plt.hist(l_NaturalCause, rwidth = 0.6)\n",
        "plt.xlabel('Death')\n",
        "plt.ylabel('count')\n",
        "plt.show() "
      ],
      "execution_count": null,
      "outputs": [
        {
          "output_type": "display_data",
          "data": {
            "image/png": "[encoded data removed]",
            "text/plain": [
              "<Figure size 432x288 with 1 Axes>"
            ]
          },
          "metadata": {
            "tags": [],
            "needs_background": "light"
          }
        }
      ]
    },
    {
      "cell_type": "markdown",
      "metadata": {
        "id": "GBetbnlmhS1_"
      },
      "source": [
        "**distibution of data**"
      ]
    },
    {
      "cell_type": "code",
      "metadata": {
        "colab": {
          "base_uri": "https://localhost:8080/",
          "height": 296
        },
        "id": "ZJv-kk9ClBAC",
        "outputId": "faf16cab-7db4-44e4-ece8-e46c6fe940e4"
      },
      "source": [
        "from scipy.stats import norm\n",
        "\n",
        "plt.hist(l_NaturalCause, rwidth = 0.8, density=True)\n",
        "plt.xlabel('Death')\n",
        "plt.ylabel('count')\n",
        "\n",
        "rng = np.arange(l_NaturalCause.min(), l_NaturalCause.max(),0.1)\n",
        "plt.plot(rng,norm.pdf(rng, l_NaturalCause.mean(), l_NaturalCause.std()))"
      ],
      "execution_count": null,
      "outputs": [
        {
          "output_type": "execute_result",
          "data": {
            "text/plain": [
              "[<matplotlib.lines.Line2D at 0x7f0aacdf2910>]"
            ]
          },
          "metadata": {
            "tags": []
          },
          "execution_count": 34
        },
        {
          "output_type": "display_data",
          "data": {
            "image/png": "[encoded data removed]",
            "text/plain": [
              "<Figure size 432x288 with 1 Axes>"
            ]
          },
          "metadata": {
            "tags": [],
            "needs_background": "light"
          }
        }
      ]
    },
    {
      "cell_type": "markdown",
      "metadata": {
        "id": "OPqxEsPuliKA"
      },
      "source": [
        "for the clear distrubiton of the data i draw the curve line to know the data variations due to natural cause in number of death"
      ]
    },
    {
      "cell_type": "markdown",
      "metadata": {
        "id": "eAHrSy1hlydD"
      },
      "source": [
        "**for the outliers in natural cause**"
      ]
    },
    {
      "cell_type": "code",
      "metadata": {
        "colab": {
          "base_uri": "https://localhost:8080/",
          "height": 265
        },
        "id": "_2RKMyhvlr5U",
        "outputId": "7f13e668-c495-490a-cd92-c42279d01406"
      },
      "source": [
        "plt.boxplot(df.NaturalCause.dropna(), 1)\n",
        "plt.show()"
      ],
      "execution_count": null,
      "outputs": [
        {
          "output_type": "display_data",
          "data": {
            "image/png": "[encoded data removed]",
            "text/plain": [
              "<Figure size 432x288 with 1 Axes>"
            ]
          },
          "metadata": {
            "tags": [],
            "needs_background": "light"
          }
        }
      ]
    },
    {
      "cell_type": "markdown",
      "metadata": {
        "id": "YcSzPyvyl-G_"
      },
      "source": [
        "In the above graph we can  see that there are many outliers in dataset"
      ]
    },
    {
      "cell_type": "code",
      "metadata": {
        "colab": {
          "base_uri": "https://localhost:8080/",
          "height": 265
        },
        "id": "E8Uh3ZwUmQiV",
        "outputId": "5d2c41bd-d39a-4f45-df5d-55f44663eba5"
      },
      "source": [
        "plt.boxplot(l_NaturalCause, 1)\n",
        "plt.show()"
      ],
      "execution_count": null,
      "outputs": [
        {
          "output_type": "display_data",
          "data": {
            "image/png": "[encoded data removed]",
            "text/plain": [
              "<Figure size 432x288 with 1 Axes>"
            ]
          },
          "metadata": {
            "tags": [],
            "needs_background": "light"
          }
        }
      ]
    },
    {
      "cell_type": "markdown",
      "metadata": {
        "id": "HpAaso6VmSkT"
      },
      "source": [
        "from the above logarithm box plot of natural cause diseases,it is clrealy seen that no outliers in the data."
      ]
    },
    {
      "cell_type": "markdown",
      "metadata": {
        "id": "adapktIhKw0V"
      },
      "source": [
        "plotting bar graph for categorical"
      ]
    },
    {
      "cell_type": "code",
      "metadata": {
        "colab": {
          "base_uri": "https://localhost:8080/",
          "height": 363
        },
        "id": "ZzbXPR28FWK5",
        "outputId": "c981152d-8b1b-45b3-f3fc-42bb1204938f"
      },
      "source": [
        "df['AgeGroup'].value_counts().plot.bar()"
      ],
      "execution_count": null,
      "outputs": [
        {
          "output_type": "execute_result",
          "data": {
            "text/plain": [
              "<matplotlib.axes._subplots.AxesSubplot at 0x7f0ab20ff5d0>"
            ]
          },
          "metadata": {
            "tags": []
          },
          "execution_count": 33
        },
        {
          "output_type": "display_data",
          "data": {
            "image/png": "[encoded data removed]",
            "text/plain": [
              "<Figure size 432x288 with 1 Axes>"
            ]
          },
          "metadata": {
            "tags": [],
            "needs_background": "light"
          }
        }
      ]
    },
    {
      "cell_type": "markdown",
      "metadata": {
        "id": "-JyL6PC-cH9d"
      },
      "source": [
        "by observing above bar graph it is clearly seen that each age group has similar death cause by various diseases."
      ]
    },
    {
      "cell_type": "markdown",
      "metadata": {
        "id": "ApwNfJQ-mgPI"
      },
      "source": [
        "**Bivariate**"
      ]
    },
    {
      "cell_type": "markdown",
      "metadata": {
        "id": "m5e-P2jK_UEa"
      },
      "source": [
        "finding cdf for age group"
      ]
    },
    {
      "cell_type": "code",
      "metadata": {
        "colab": {
          "base_uri": "https://localhost:8080/"
        },
        "id": "KohW_CxC6A4o",
        "outputId": "c5ea5e2e-920b-4dff-f789-77bdb00d61e1"
      },
      "source": [
        "df['Sex'].describe()\n",
        "All_Cause = df['NaturalCause'].dropna()\n",
        "All_Cause.describe()\n"
      ],
      "execution_count": null,
      "outputs": [
        {
          "output_type": "execute_result",
          "data": {
            "text/plain": [
              "count     2717.000000\n",
              "mean      2194.944056\n",
              "std       5945.745418\n",
              "min          0.000000\n",
              "25%         70.000000\n",
              "50%        216.000000\n",
              "75%       1294.000000\n",
              "max      52054.000000\n",
              "Name: NaturalCause, dtype: float64"
            ]
          },
          "metadata": {
            "tags": []
          },
          "execution_count": 27
        }
      ]
    },
    {
      "cell_type": "code",
      "metadata": {
        "colab": {
          "base_uri": "https://localhost:8080/",
          "height": 283
        },
        "id": "fcLo1D3_Ftym",
        "outputId": "688bb68e-2e23-4a9d-cea8-758f57db110b"
      },
      "source": [
        "male = df['Sex'] == 'M'\n",
        "All_Cause = df['Influenza.and.pneumonia..J09.J18.']\n",
        "male_death = All_Cause[male]\n",
        "female_death = All_Cause[~male]\n",
        "emp.Cdf.from_seq(male_death).plot(label = 'Male')\n",
        "emp.Cdf.from_seq(female_death).plot(label ='Female')\n",
        "plt.xlabel('Death')\n",
        "plt.ylabel('Cdf')\n",
        "plt.legend()\n",
        "plt.axis([0,600,0,1])\n",
        "plt.show()"
      ],
      "execution_count": null,
      "outputs": [
        {
          "output_type": "display_data",
          "data": {
            "image/png": "[encoded data removed]",
            "text/plain": [
              "<Figure size 432x288 with 1 Axes>"
            ]
          },
          "metadata": {
            "tags": [],
            "needs_background": "light"
          }
        }
      ]
    },
    {
      "cell_type": "markdown",
      "metadata": {
        "id": "ffMF-t8Dc4wG"
      },
      "source": [
        "from the above graph both male and female sex categories are almost parellel to each other. where we can see a tremondous increment are observed near 100 death count towords cdf o.4 to 0.9."
      ]
    },
    {
      "cell_type": "markdown",
      "metadata": {
        "id": "OkwHi_0iytQq"
      },
      "source": [
        "one categorical and 1 numeric variable"
      ]
    },
    {
      "cell_type": "code",
      "metadata": {
        "colab": {
          "base_uri": "https://localhost:8080/",
          "height": 281
        },
        "id": "XFKgq0kAyqjF",
        "outputId": "601dc19c-e69d-4808-efd6-3b806556793e"
      },
      "source": [
        "from empiricaldist import Pmf\n",
        "plt.barh(df['Date.Of.Death.Year'], df['NaturalCause'])\n",
        "# Label the axes\n",
        "plt.xlabel('NaturalCausedeath')\n",
        "plt.ylabel('death year')\n",
        "plt.show()"
      ],
      "execution_count": null,
      "outputs": [
        {
          "output_type": "display_data",
          "data": {
            "image/png": "[encoded data removed]",
            "text/plain": [
              "<Figure size 432x288 with 1 Axes>"
            ]
          },
          "metadata": {
            "tags": [],
            "needs_background": "light"
          }
        }
      ]
    },
    {
      "cell_type": "markdown",
      "metadata": {
        "id": "IM9omBC5zHOw"
      },
      "source": [
        "from the above visulization we can easily see that more than 50000 deaths are identified in the year of 2020 and  its the highest among all year. "
      ]
    },
    {
      "cell_type": "markdown",
      "metadata": {
        "id": "CsAoh04CEW5c"
      },
      "source": [
        "**realtionship between natural cause and chronic diseases**"
      ]
    },
    {
      "cell_type": "code",
      "metadata": {
        "colab": {
          "base_uri": "https://localhost:8080/",
          "height": 284
        },
        "id": "oP7U2KKGBby4",
        "outputId": "c2c93c4a-7bc1-4b0b-bc00-250d7f8f41ec"
      },
      "source": [
        "from scipy.stats import linregress\n",
        "\n",
        "subset = df.dropna(subset=['NaturalCause', 'Chronic.lower.respiratory.diseases..J40.J47.'])\n",
        "xs = subset['NaturalCause']\n",
        "ys = subset['Chronic.lower.respiratory.diseases..J40.J47.']\n",
        "res = linregress(xs,ys)\n",
        "print(res)\n",
        "plt.scatter(df['NaturalCause'],df['Chronic.lower.respiratory.diseases..J40.J47.'])\n",
        "plt.show()\n"
      ],
      "execution_count": null,
      "outputs": [
        {
          "output_type": "stream",
          "text": [
            "LinregressResult(slope=0.05948142118189945, intercept=-16.54193813580744, rvalue=0.9459405734311281, pvalue=0.0, stderr=0.0005031520020455584)\n"
          ],
          "name": "stdout"
        },
        {
          "output_type": "display_data",
          "data": {
            "image/png": "[encoded data removed]",
            "text/plain": [
              "<Figure size 432x288 with 1 Axes>"
            ]
          },
          "metadata": {
            "tags": [],
            "needs_background": "light"
          }
        }
      ]
    },
    {
      "cell_type": "markdown",
      "metadata": {
        "id": "L9VtVHrhKCno"
      },
      "source": [
        "from the above plot we can see that there is a positive relationship. and we can say that from 100  people only 5 people die due to this diseases."
      ]
    }
  ]
}