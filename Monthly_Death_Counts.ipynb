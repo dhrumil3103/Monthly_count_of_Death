{
  "nbformat": 4,
  "nbformat_minor": 0,
  "metadata": {
    "colab": {
      "name": "Monthly_Death_Counts.ipynb",
      "provenance": [],
      "collapsed_sections": []
    },
    "kernelspec": {
      "name": "python3",
      "display_name": "Python 3"
    },
    "language_info": {
      "name": "python"
    }
  },
  "cells": [
    {
      "cell_type": "markdown",
      "metadata": {
        "id": "UQ5H-zJc12gz"
      },
      "source": [
        "# Exploratory Data Analysis"
      ]
    },
    {
      "cell_type": "code",
      "metadata": {
        "id": "7kPqwTnaV6bE",
        "colab": {
          "base_uri": "https://localhost:8080/"
        },
        "outputId": "60bb70ee-879f-47ca-e449-2dc61e92715a"
      },
      "source": [
        "!pip install empiricaldist\n",
        "import empiricaldist as emp"
      ],
      "execution_count": null,
      "outputs": [
        {
          "output_type": "stream",
          "text": [
            "Collecting empiricaldist\n",
            "  Downloading https://files.pythonhosted.org/packages/64/ce/732891161f5ca77d8a50616ad3081ec307bddcaa5ad604702bdb2f7654ad/empiricaldist-0.6.1.tar.gz\n",
            "Building wheels for collected packages: empiricaldist\n",
            "  Building wheel for empiricaldist (setup.py) ... \u001b[?25l\u001b[?25hdone\n",
            "  Created wheel for empiricaldist: filename=empiricaldist-0.6.1-cp37-none-any.whl size=10629 sha256=d5f4be3a0ff966144d300a894512a688350e34caec346082a72a0c85586ab7db\n",
            "  Stored in directory: /root/.cache/pip/wheels/9d/93/b1/92742aa428b2a83dd6aa6ece18a908f7e38c15895b1c37a462\n",
            "Successfully built empiricaldist\n",
            "Installing collected packages: empiricaldist\n",
            "Successfully installed empiricaldist-0.6.1\n"
          ],
          "name": "stdout"
        }
      ]
    },
    {
      "cell_type": "markdown",
      "metadata": {
        "id": "DkmBMl992JVu"
      },
      "source": [
        "load library"
      ]
    },
    {
      "cell_type": "code",
      "metadata": {
        "id": "71GULMzT08xM"
      },
      "source": [
        "import pandas as pd\n",
        "import numpy as np\n",
        "import seaborn as sns\n",
        "from matplotlib import pyplot as plt\n",
        "%matplotlib inline"
      ],
      "execution_count": null,
      "outputs": []
    },
    {
      "cell_type": "markdown",
      "metadata": {
        "id": "UjGExfvL2bZG"
      },
      "source": [
        "Load the csv file"
      ]
    },
    {
      "cell_type": "code",
      "metadata": {
        "colab": {
          "base_uri": "https://localhost:8080/",
          "height": 292
        },
        "id": "NEIvha8p1C4F",
        "outputId": "1ce51773-79e1-45c8-ee02-9f2aae8deefe"
      },
      "source": [
        "df = pd.read_csv(\"/content/drive/MyDrive/AH_Monthly_provisional_counts_of_deaths_by_age_group__sex__and_race_ethnicity_for_select_causes_of_death.csv\", index_col=0)\n",
        "df.head()"
      ],
      "execution_count": null,
      "outputs": [
        {
          "output_type": "execute_result",
          "data": {
            "text/html": [
              "<div>\n",
              "<style scoped>\n",
              "    .dataframe tbody tr th:only-of-type {\n",
              "        vertical-align: middle;\n",
              "    }\n",
              "\n",
              "    .dataframe tbody tr th {\n",
              "        vertical-align: top;\n",
              "    }\n",
              "\n",
              "    .dataframe thead th {\n",
              "        text-align: right;\n",
              "    }\n",
              "</style>\n",
              "<table border=\"1\" class=\"dataframe\">\n",
              "  <thead>\n",
              "    <tr style=\"text-align: right;\">\n",
              "      <th></th>\n",
              "      <th>Date.Of.Death.Year</th>\n",
              "      <th>Date.Of.Death.Month</th>\n",
              "      <th>Sex</th>\n",
              "      <th>Race.Ethnicity</th>\n",
              "      <th>AgeGroup</th>\n",
              "      <th>AllCause</th>\n",
              "      <th>NaturalCause</th>\n",
              "      <th>Septicemia..A40.A41.</th>\n",
              "      <th>Malignant.neoplasms..C00.C97.</th>\n",
              "      <th>Diabetes.mellitus..E10.E14.</th>\n",
              "      <th>Alzheimer.disease..G30.</th>\n",
              "      <th>Influenza.and.pneumonia..J09.J18.</th>\n",
              "      <th>Chronic.lower.respiratory.diseases..J40.J47.</th>\n",
              "      <th>Other.diseases.of.respiratory.system..J00.J06.J30.J39.J67.J70.J98.</th>\n",
              "      <th>Nephritis..nephrotic.syndrome.and.nephrosis..N00.N07.N17.N19.N25.N27.</th>\n",
              "      <th>Symptoms..signs.and.abnormal.clinical.and.laboratory.findings..not.elsewhere.classified..R00.R99.</th>\n",
              "      <th>Diseases.of.heart..I00.I09.I11.I13.I20.I51.</th>\n",
              "      <th>Cerebrovascular.diseases..I60.I69.</th>\n",
              "      <th>COVID.19..U071..Multiple.Cause.of.Death.</th>\n",
              "      <th>COVID.19..U071..Underlying.Cause.of.Death.</th>\n",
              "      <th>Start.Date</th>\n",
              "      <th>End.Date</th>\n",
              "      <th>Jurisdiction.of.Occurrence</th>\n",
              "    </tr>\n",
              "  </thead>\n",
              "  <tbody>\n",
              "    <tr>\n",
              "      <th>1</th>\n",
              "      <td>2019</td>\n",
              "      <td>1</td>\n",
              "      <td>F</td>\n",
              "      <td>Hispanic</td>\n",
              "      <td>0-4 years</td>\n",
              "      <td>182.0</td>\n",
              "      <td>162.0</td>\n",
              "      <td>NaN</td>\n",
              "      <td>NaN</td>\n",
              "      <td>0.0</td>\n",
              "      <td>0.0</td>\n",
              "      <td>NaN</td>\n",
              "      <td>0.0</td>\n",
              "      <td>NaN</td>\n",
              "      <td>0.0</td>\n",
              "      <td>22.0</td>\n",
              "      <td>NaN</td>\n",
              "      <td>0.0</td>\n",
              "      <td>0.0</td>\n",
              "      <td>0.0</td>\n",
              "      <td>01/01/2019</td>\n",
              "      <td>01/31/2019</td>\n",
              "      <td>United States</td>\n",
              "    </tr>\n",
              "    <tr>\n",
              "      <th>2</th>\n",
              "      <td>2019</td>\n",
              "      <td>1</td>\n",
              "      <td>F</td>\n",
              "      <td>Hispanic</td>\n",
              "      <td>5-14 years</td>\n",
              "      <td>44.0</td>\n",
              "      <td>28.0</td>\n",
              "      <td>NaN</td>\n",
              "      <td>NaN</td>\n",
              "      <td>NaN</td>\n",
              "      <td>0.0</td>\n",
              "      <td>NaN</td>\n",
              "      <td>NaN</td>\n",
              "      <td>0.0</td>\n",
              "      <td>0.0</td>\n",
              "      <td>0.0</td>\n",
              "      <td>0.0</td>\n",
              "      <td>0.0</td>\n",
              "      <td>0.0</td>\n",
              "      <td>0.0</td>\n",
              "      <td>01/01/2019</td>\n",
              "      <td>01/31/2019</td>\n",
              "      <td>United States</td>\n",
              "    </tr>\n",
              "    <tr>\n",
              "      <th>3</th>\n",
              "      <td>2019</td>\n",
              "      <td>1</td>\n",
              "      <td>F</td>\n",
              "      <td>Hispanic</td>\n",
              "      <td>15-24 years</td>\n",
              "      <td>122.0</td>\n",
              "      <td>45.0</td>\n",
              "      <td>0.0</td>\n",
              "      <td>NaN</td>\n",
              "      <td>NaN</td>\n",
              "      <td>0.0</td>\n",
              "      <td>0.0</td>\n",
              "      <td>NaN</td>\n",
              "      <td>NaN</td>\n",
              "      <td>NaN</td>\n",
              "      <td>NaN</td>\n",
              "      <td>NaN</td>\n",
              "      <td>NaN</td>\n",
              "      <td>0.0</td>\n",
              "      <td>0.0</td>\n",
              "      <td>01/01/2019</td>\n",
              "      <td>01/31/2019</td>\n",
              "      <td>United States</td>\n",
              "    </tr>\n",
              "    <tr>\n",
              "      <th>4</th>\n",
              "      <td>2019</td>\n",
              "      <td>1</td>\n",
              "      <td>F</td>\n",
              "      <td>Hispanic</td>\n",
              "      <td>25-34 years</td>\n",
              "      <td>198.0</td>\n",
              "      <td>100.0</td>\n",
              "      <td>NaN</td>\n",
              "      <td>29.0</td>\n",
              "      <td>NaN</td>\n",
              "      <td>0.0</td>\n",
              "      <td>NaN</td>\n",
              "      <td>NaN</td>\n",
              "      <td>NaN</td>\n",
              "      <td>0.0</td>\n",
              "      <td>NaN</td>\n",
              "      <td>NaN</td>\n",
              "      <td>NaN</td>\n",
              "      <td>0.0</td>\n",
              "      <td>0.0</td>\n",
              "      <td>01/01/2019</td>\n",
              "      <td>01/31/2019</td>\n",
              "      <td>United States</td>\n",
              "    </tr>\n",
              "    <tr>\n",
              "      <th>5</th>\n",
              "      <td>2019</td>\n",
              "      <td>1</td>\n",
              "      <td>F</td>\n",
              "      <td>Hispanic</td>\n",
              "      <td>35-44 years</td>\n",
              "      <td>334.0</td>\n",
              "      <td>260.0</td>\n",
              "      <td>NaN</td>\n",
              "      <td>96.0</td>\n",
              "      <td>NaN</td>\n",
              "      <td>0.0</td>\n",
              "      <td>11.0</td>\n",
              "      <td>NaN</td>\n",
              "      <td>NaN</td>\n",
              "      <td>NaN</td>\n",
              "      <td>NaN</td>\n",
              "      <td>25.0</td>\n",
              "      <td>10.0</td>\n",
              "      <td>0.0</td>\n",
              "      <td>0.0</td>\n",
              "      <td>01/01/2019</td>\n",
              "      <td>01/31/2019</td>\n",
              "      <td>United States</td>\n",
              "    </tr>\n",
              "  </tbody>\n",
              "</table>\n",
              "</div>"
            ],
            "text/plain": [
              "   Date.Of.Death.Year  ...  Jurisdiction.of.Occurrence\n",
              "1                2019  ...               United States\n",
              "2                2019  ...               United States\n",
              "3                2019  ...               United States\n",
              "4                2019  ...               United States\n",
              "5                2019  ...               United States\n",
              "\n",
              "[5 rows x 23 columns]"
            ]
          },
          "metadata": {
            "tags": []
          },
          "execution_count": 14
        }
      ]
    },
    {
      "cell_type": "code",
      "metadata": {
        "colab": {
          "base_uri": "https://localhost:8080/"
        },
        "id": "26UZk0J2sLgb",
        "outputId": "aa889300-38ba-4a6a-9a3c-10acf259e10c"
      },
      "source": [
        "from google.colab import drive\n",
        "drive.mount('/content/drive')"
      ],
      "execution_count": null,
      "outputs": [
        {
          "output_type": "stream",
          "text": [
            "Drive already mounted at /content/drive; to attempt to forcibly remount, call drive.mount(\"/content/drive\", force_remount=True).\n"
          ],
          "name": "stdout"
        }
      ]
    },
    {
      "cell_type": "markdown",
      "metadata": {
        "id": "oO2l5G_PswKq"
      },
      "source": [
        "# Sort the column values "
      ]
    },
    {
      "cell_type": "code",
      "metadata": {
        "colab": {
          "base_uri": "https://localhost:8080/"
        },
        "id": "2RFeBlcT1YI3",
        "outputId": "aa8345e9-b597-466d-a654-542bb35fca1c"
      },
      "source": [
        "df['NaturalCause'].value_counts().sort_index()"
      ],
      "execution_count": null,
      "outputs": [
        {
          "output_type": "execute_result",
          "data": {
            "text/plain": [
              "0.0        13\n",
              "10.0       14\n",
              "11.0       14\n",
              "12.0       15\n",
              "13.0       10\n",
              "           ..\n",
              "41621.0     1\n",
              "43113.0     1\n",
              "43130.0     1\n",
              "48025.0     1\n",
              "52054.0     1\n",
              "Name: NaturalCause, Length: 1288, dtype: int64"
            ]
          },
          "metadata": {
            "tags": []
          },
          "execution_count": 16
        }
      ]
    },
    {
      "cell_type": "markdown",
      "metadata": {
        "id": "r4TQ9cwptdg7"
      },
      "source": [
        "# Describe the column values"
      ]
    },
    {
      "cell_type": "code",
      "metadata": {
        "colab": {
          "base_uri": "https://localhost:8080/"
        },
        "id": "y8YnnVc_20mQ",
        "outputId": "eca13ca8-e13e-4ebb-acdf-304c5460d9ac"
      },
      "source": [
        "\n",
        "print(df['NaturalCause'].describe())\n",
        "print(df.NaturalCause.isnull().sum())"
      ],
      "execution_count": null,
      "outputs": [
        {
          "output_type": "stream",
          "text": [
            "count     2717.000000\n",
            "mean      2194.944056\n",
            "std       5945.745418\n",
            "min          0.000000\n",
            "25%         70.000000\n",
            "50%        216.000000\n",
            "75%       1294.000000\n",
            "max      52054.000000\n",
            "Name: NaturalCause, dtype: float64\n",
            "283\n"
          ],
          "name": "stdout"
        }
      ]
    },
    {
      "cell_type": "code",
      "metadata": {
        "colab": {
          "base_uri": "https://localhost:8080/"
        },
        "id": "fqxfPnIjDFPD",
        "outputId": "ef73da5f-0083-41f7-9b43-accf5e6a9dad"
      },
      "source": [
        "print(df['Diabetes.mellitus..E10.E14.'].describe())\n",
        "print(df.AllCause.isnull().sum())"
      ],
      "execution_count": null,
      "outputs": [
        {
          "output_type": "stream",
          "text": [
            "count    2127.000000\n",
            "mean       90.301834\n",
            "std       170.424524\n",
            "min         0.000000\n",
            "25%         0.000000\n",
            "50%        19.000000\n",
            "75%        97.000000\n",
            "max       984.000000\n",
            "Name: Diabetes.mellitus..E10.E14., dtype: float64\n",
            "151\n"
          ],
          "name": "stdout"
        }
      ]
    },
    {
      "cell_type": "code",
      "metadata": {
        "colab": {
          "base_uri": "https://localhost:8080/"
        },
        "id": "OJ2ePl8D7jdN",
        "outputId": "8ea30c72-f90f-4d16-b39c-6a53c59926a3"
      },
      "source": [
        "print(df['Septicemia..A40.A41.'].describe())\n",
        "print(df.AllCause.isnull().sum())"
      ],
      "execution_count": null,
      "outputs": [
        {
          "output_type": "stream",
          "text": [
            "count    1736.000000\n",
            "mean       44.580069\n",
            "std        88.269978\n",
            "min         0.000000\n",
            "25%         0.000000\n",
            "50%        10.000000\n",
            "75%        36.000000\n",
            "max       484.000000\n",
            "Name: Septicemia..A40.A41., dtype: float64\n",
            "151\n"
          ],
          "name": "stdout"
        }
      ]
    },
    {
      "cell_type": "code",
      "metadata": {
        "colab": {
          "base_uri": "https://localhost:8080/",
          "height": 317
        },
        "id": "SYb-jQUUFPPO",
        "outputId": "bc92e717-937d-4edb-bc3e-b3e54e98b1f7"
      },
      "source": [
        "df.describe()"
      ],
      "execution_count": null,
      "outputs": [
        {
          "output_type": "execute_result",
          "data": {
            "text/html": [
              "<div>\n",
              "<style scoped>\n",
              "    .dataframe tbody tr th:only-of-type {\n",
              "        vertical-align: middle;\n",
              "    }\n",
              "\n",
              "    .dataframe tbody tr th {\n",
              "        vertical-align: top;\n",
              "    }\n",
              "\n",
              "    .dataframe thead th {\n",
              "        text-align: right;\n",
              "    }\n",
              "</style>\n",
              "<table border=\"1\" class=\"dataframe\">\n",
              "  <thead>\n",
              "    <tr style=\"text-align: right;\">\n",
              "      <th></th>\n",
              "      <th>Date.Of.Death.Year</th>\n",
              "      <th>Date.Of.Death.Month</th>\n",
              "      <th>AllCause</th>\n",
              "      <th>NaturalCause</th>\n",
              "      <th>Septicemia..A40.A41.</th>\n",
              "      <th>Malignant.neoplasms..C00.C97.</th>\n",
              "      <th>Diabetes.mellitus..E10.E14.</th>\n",
              "      <th>Alzheimer.disease..G30.</th>\n",
              "      <th>Influenza.and.pneumonia..J09.J18.</th>\n",
              "      <th>Chronic.lower.respiratory.diseases..J40.J47.</th>\n",
              "      <th>Other.diseases.of.respiratory.system..J00.J06.J30.J39.J67.J70.J98.</th>\n",
              "      <th>Nephritis..nephrotic.syndrome.and.nephrosis..N00.N07.N17.N19.N25.N27.</th>\n",
              "      <th>Symptoms..signs.and.abnormal.clinical.and.laboratory.findings..not.elsewhere.classified..R00.R99.</th>\n",
              "      <th>Diseases.of.heart..I00.I09.I11.I13.I20.I51.</th>\n",
              "      <th>Cerebrovascular.diseases..I60.I69.</th>\n",
              "      <th>COVID.19..U071..Multiple.Cause.of.Death.</th>\n",
              "      <th>COVID.19..U071..Underlying.Cause.of.Death.</th>\n",
              "    </tr>\n",
              "  </thead>\n",
              "  <tbody>\n",
              "    <tr>\n",
              "      <th>count</th>\n",
              "      <td>3000.00000</td>\n",
              "      <td>3000.000000</td>\n",
              "      <td>2849.000000</td>\n",
              "      <td>2717.000000</td>\n",
              "      <td>1736.000000</td>\n",
              "      <td>2249.000000</td>\n",
              "      <td>2127.000000</td>\n",
              "      <td>2465.000000</td>\n",
              "      <td>1721.000000</td>\n",
              "      <td>1902.000000</td>\n",
              "      <td>1713.000000</td>\n",
              "      <td>1915.000000</td>\n",
              "      <td>1646.000000</td>\n",
              "      <td>2257.000000</td>\n",
              "      <td>1903.000000</td>\n",
              "      <td>2697.000000</td>\n",
              "      <td>2705.000000</td>\n",
              "    </tr>\n",
              "    <tr>\n",
              "      <th>mean</th>\n",
              "      <td>2019.56000</td>\n",
              "      <td>6.280000</td>\n",
              "      <td>2280.159354</td>\n",
              "      <td>2194.944056</td>\n",
              "      <td>44.580069</td>\n",
              "      <td>549.167185</td>\n",
              "      <td>90.301834</td>\n",
              "      <td>106.763083</td>\n",
              "      <td>59.506101</td>\n",
              "      <td>165.209779</td>\n",
              "      <td>51.633975</td>\n",
              "      <td>54.495039</td>\n",
              "      <td>56.221750</td>\n",
              "      <td>617.635357</td>\n",
              "      <td>166.369417</td>\n",
              "      <td>169.790508</td>\n",
              "      <td>154.812569</td>\n",
              "    </tr>\n",
              "    <tr>\n",
              "      <th>std</th>\n",
              "      <td>0.57141</td>\n",
              "      <td>3.550465</td>\n",
              "      <td>6028.864306</td>\n",
              "      <td>5945.745418</td>\n",
              "      <td>88.269978</td>\n",
              "      <td>1277.215975</td>\n",
              "      <td>170.424524</td>\n",
              "      <td>468.441964</td>\n",
              "      <td>138.795169</td>\n",
              "      <td>435.135083</td>\n",
              "      <td>118.120996</td>\n",
              "      <td>115.834956</td>\n",
              "      <td>111.205503</td>\n",
              "      <td>1624.844848</td>\n",
              "      <td>428.784981</td>\n",
              "      <td>805.541868</td>\n",
              "      <td>727.679060</td>\n",
              "    </tr>\n",
              "    <tr>\n",
              "      <th>min</th>\n",
              "      <td>2019.00000</td>\n",
              "      <td>1.000000</td>\n",
              "      <td>10.000000</td>\n",
              "      <td>0.000000</td>\n",
              "      <td>0.000000</td>\n",
              "      <td>0.000000</td>\n",
              "      <td>0.000000</td>\n",
              "      <td>0.000000</td>\n",
              "      <td>0.000000</td>\n",
              "      <td>0.000000</td>\n",
              "      <td>0.000000</td>\n",
              "      <td>0.000000</td>\n",
              "      <td>0.000000</td>\n",
              "      <td>0.000000</td>\n",
              "      <td>0.000000</td>\n",
              "      <td>0.000000</td>\n",
              "      <td>0.000000</td>\n",
              "    </tr>\n",
              "    <tr>\n",
              "      <th>25%</th>\n",
              "      <td>2019.00000</td>\n",
              "      <td>3.000000</td>\n",
              "      <td>86.000000</td>\n",
              "      <td>70.000000</td>\n",
              "      <td>0.000000</td>\n",
              "      <td>20.000000</td>\n",
              "      <td>0.000000</td>\n",
              "      <td>0.000000</td>\n",
              "      <td>0.000000</td>\n",
              "      <td>0.000000</td>\n",
              "      <td>0.000000</td>\n",
              "      <td>0.000000</td>\n",
              "      <td>0.000000</td>\n",
              "      <td>19.000000</td>\n",
              "      <td>0.000000</td>\n",
              "      <td>0.000000</td>\n",
              "      <td>0.000000</td>\n",
              "    </tr>\n",
              "    <tr>\n",
              "      <th>50%</th>\n",
              "      <td>2020.00000</td>\n",
              "      <td>6.000000</td>\n",
              "      <td>271.000000</td>\n",
              "      <td>216.000000</td>\n",
              "      <td>10.000000</td>\n",
              "      <td>69.000000</td>\n",
              "      <td>19.000000</td>\n",
              "      <td>0.000000</td>\n",
              "      <td>14.000000</td>\n",
              "      <td>12.000000</td>\n",
              "      <td>11.000000</td>\n",
              "      <td>10.000000</td>\n",
              "      <td>20.000000</td>\n",
              "      <td>60.000000</td>\n",
              "      <td>25.000000</td>\n",
              "      <td>0.000000</td>\n",
              "      <td>0.000000</td>\n",
              "    </tr>\n",
              "    <tr>\n",
              "      <th>75%</th>\n",
              "      <td>2020.00000</td>\n",
              "      <td>9.000000</td>\n",
              "      <td>1498.000000</td>\n",
              "      <td>1294.000000</td>\n",
              "      <td>36.000000</td>\n",
              "      <td>338.000000</td>\n",
              "      <td>97.000000</td>\n",
              "      <td>16.000000</td>\n",
              "      <td>45.000000</td>\n",
              "      <td>74.000000</td>\n",
              "      <td>37.000000</td>\n",
              "      <td>48.500000</td>\n",
              "      <td>46.000000</td>\n",
              "      <td>414.000000</td>\n",
              "      <td>121.000000</td>\n",
              "      <td>24.000000</td>\n",
              "      <td>21.000000</td>\n",
              "    </tr>\n",
              "    <tr>\n",
              "      <th>max</th>\n",
              "      <td>2021.00000</td>\n",
              "      <td>12.000000</td>\n",
              "      <td>53242.000000</td>\n",
              "      <td>52054.000000</td>\n",
              "      <td>484.000000</td>\n",
              "      <td>6498.000000</td>\n",
              "      <td>984.000000</td>\n",
              "      <td>4732.000000</td>\n",
              "      <td>1216.000000</td>\n",
              "      <td>2408.000000</td>\n",
              "      <td>666.000000</td>\n",
              "      <td>653.000000</td>\n",
              "      <td>1127.000000</td>\n",
              "      <td>11502.000000</td>\n",
              "      <td>3352.000000</td>\n",
              "      <td>14770.000000</td>\n",
              "      <td>12932.000000</td>\n",
              "    </tr>\n",
              "  </tbody>\n",
              "</table>\n",
              "</div>"
            ],
            "text/plain": [
              "       Date.Of.Death.Year  ...  COVID.19..U071..Underlying.Cause.of.Death.\n",
              "count          3000.00000  ...                                 2705.000000\n",
              "mean           2019.56000  ...                                  154.812569\n",
              "std               0.57141  ...                                  727.679060\n",
              "min            2019.00000  ...                                    0.000000\n",
              "25%            2019.00000  ...                                    0.000000\n",
              "50%            2020.00000  ...                                    0.000000\n",
              "75%            2020.00000  ...                                   21.000000\n",
              "max            2021.00000  ...                                12932.000000\n",
              "\n",
              "[8 rows x 17 columns]"
            ]
          },
          "metadata": {
            "tags": []
          },
          "execution_count": 20
        }
      ]
    },
    {
      "cell_type": "markdown",
      "metadata": {
        "id": "Or-6ZMZ8afgx"
      },
      "source": [
        "**Univariate**"
      ]
    },
    {
      "cell_type": "markdown",
      "metadata": {
        "id": "2yAP9MCTKLw7"
      },
      "source": [
        "histrogram for Natural cause "
      ]
    },
    {
      "cell_type": "code",
      "metadata": {
        "colab": {
          "base_uri": "https://localhost:8080/",
          "height": 279
        },
        "id": "6ReMib8v3HI3",
        "outputId": "2e4a6ae3-5406-43ee-e09a-48fd37c58b95"
      },
      "source": [
        "plt.hist(df.NaturalCause, rwidth = 0.5)\n",
        "plt.xlabel('Death')\n",
        "plt.ylabel('count')\n",
        "plt.show() \n"
      ],
      "execution_count": null,
      "outputs": [
        {
          "output_type": "display_data",
          "data": {
            "image/png": "[encoded data removed]",
            "text/plain": [
              "<Figure size 432x288 with 1 Axes>"
            ]
          },
          "metadata": {
            "tags": [],
            "needs_background": "light"
          }
        }
      ]
    },
    {
      "cell_type": "markdown",
      "metadata": {
        "id": "CmTmCiMvavxP"
      },
      "source": [
        "from the above graph we can see that a little right skewness is observed. Also we can see that an unusual observions around 25000 death count."
      ]
    },
    {
      "cell_type": "markdown",
      "metadata": {
        "id": "8A9wuBf0EaS8"
      },
      "source": [
        "**Plotting histogram for Diabetes.mellitus**"
      ]
    },
    {
      "cell_type": "code",
      "metadata": {
        "colab": {
          "base_uri": "https://localhost:8080/",
          "height": 279
        },
        "id": "-KayTqbGEskM",
        "outputId": "41b53502-dd83-4d35-e23b-92bb60fa37e2"
      },
      "source": [
        "plt.hist(df['Diabetes.mellitus..E10.E14.'], rwidth = 0.8)\n",
        "plt.xlabel('Death')\n",
        "plt.ylabel('count')\n",
        "plt.show() "
      ],
      "execution_count": null,
      "outputs": [
        {
          "output_type": "display_data",
          "data": {
            "image/png": "[encoded data removed]",
            "text/plain": [
              "<Figure size 432x288 with 1 Axes>"
            ]
          },
          "metadata": {
            "tags": [],
            "needs_background": "light"
          }
        }
      ]
    },
    {
      "cell_type": "markdown",
      "metadata": {
        "id": "gYzBFZISYG28"
      },
      "source": [
        "This is right skewness data so I have to remove the skewness of data. And unsuall activity seems betwwen 400 to 500 death ratio."
      ]
    },
    {
      "cell_type": "markdown",
      "metadata": {
        "id": "zkr45YVcwVAm"
      },
      "source": [
        "**Plotting histogram for Septicemia Column (Univariate Distribution)**\n"
      ]
    },
    {
      "cell_type": "code",
      "metadata": {
        "colab": {
          "base_uri": "https://localhost:8080/",
          "height": 281
        },
        "id": "FBKtcT7AwLge",
        "outputId": "9c17323e-e77e-4400-dffe-2898b8074f82"
      },
      "source": [
        "plt.hist(df['Septicemia..A40.A41.'], rwidth = 0.8)\n",
        "plt.xlabel('Death')\n",
        "plt.ylabel('count')\n",
        "plt.show()"
      ],
      "execution_count": null,
      "outputs": [
        {
          "output_type": "display_data",
          "data": {
            "image/png": "[encoded data removed]",
            "text/plain": [
              "<Figure size 432x288 with 1 Axes>"
            ]
          },
          "metadata": {
            "tags": [],
            "needs_background": "light"
          }
        }
      ]
    },
    {
      "cell_type": "markdown",
      "metadata": {
        "id": "uNGZbliewLgf"
      },
      "source": [
        "\n",
        "\n",
        "*   Acording to above graph, there is a right skewness in the data and also unusual behavior is observed around 300. So we need to remove the skewness here.\n",
        "\n"
      ]
    },
    {
      "cell_type": "markdown",
      "metadata": {
        "id": "gMS7XWX-H0Yl"
      },
      "source": [
        "**(1)univariate** **analysis**\n",
        "\n",
        "**Numerical** **Vriable**"
      ]
    },
    {
      "cell_type": "code",
      "metadata": {
        "colab": {
          "base_uri": "https://localhost:8080/",
          "height": 350
        },
        "id": "0_bhtQtYHeiF",
        "outputId": "20a8d6cf-d72b-47bf-e670-30f4734d730b"
      },
      "source": [
        "sns.distplot(df['Malignant.neoplasms..C00.C97.'],bins=10)"
      ],
      "execution_count": null,
      "outputs": [
        {
          "output_type": "stream",
          "text": [
            "/usr/local/lib/python3.7/dist-packages/seaborn/distributions.py:2557: FutureWarning: `distplot` is a deprecated function and will be removed in a future version. Please adapt your code to use either `displot` (a figure-level function with similar flexibility) or `histplot` (an axes-level function for histograms).\n",
            "  warnings.warn(msg, FutureWarning)\n"
          ],
          "name": "stderr"
        },
        {
          "output_type": "execute_result",
          "data": {
            "text/plain": [
              "<matplotlib.axes._subplots.AxesSubplot at 0x7f428069efd0>"
            ]
          },
          "metadata": {
            "tags": []
          },
          "execution_count": 24
        },
        {
          "output_type": "display_data",
          "data": {
            "image/png": "[encoded data removed]",
            "text/plain": [
              "<Figure size 432x288 with 1 Axes>"
            ]
          },
          "metadata": {
            "tags": [],
            "needs_background": "light"
          }
        }
      ]
    },
    {
      "cell_type": "markdown",
      "metadata": {
        "id": "m8LtIOQwBFb5"
      },
      "source": [
        "# Removing Skewness of the column  "
      ]
    },
    {
      "cell_type": "markdown",
      "metadata": {
        "id": "J2If4lVAybKw"
      },
      "source": [
        "Natural Cause Column"
      ]
    },
    {
      "cell_type": "code",
      "metadata": {
        "colab": {
          "base_uri": "https://localhost:8080/",
          "height": 283
        },
        "id": "UFtRNFdux2i5",
        "outputId": "d620fd3c-4f53-471a-8602-4acc3c084ff4"
      },
      "source": [
        "l_NaturalCause = df.NaturalCause.dropna()\n",
        "l_NaturalCause = np.log10(l_NaturalCause+1)\n",
        "plt.hist(l_NaturalCause, rwidth = 0.6)\n",
        "plt.xlabel('Death')\n",
        "plt.ylabel('count')\n",
        "plt.show() "
      ],
      "execution_count": null,
      "outputs": [
        {
          "output_type": "display_data",
          "data": {
            "image/png": "[encoded data removed]",
            "text/plain": [
              "<Figure size 432x288 with 1 Axes>"
            ]
          },
          "metadata": {
            "tags": [],
            "needs_background": "light"
          }
        }
      ]
    },
    {
      "cell_type": "markdown",
      "metadata": {
        "id": "D5ALMfrSbZsj"
      },
      "source": [
        "From the above visulization we can easily see that, We tried to remove skewness. "
      ]
    },
    {
      "cell_type": "markdown",
      "metadata": {
        "id": "HodxlMepFlMD"
      },
      "source": [
        "**Diabetes.mellitus column**"
      ]
    },
    {
      "cell_type": "code",
      "metadata": {
        "colab": {
          "base_uri": "https://localhost:8080/",
          "height": 282
        },
        "id": "-mjt17LeFusi",
        "outputId": "c743a7e6-4146-4422-b2f7-33596b825994"
      },
      "source": [
        "log_Diabetes= df['Diabetes.mellitus..E10.E14.'].dropna()\n",
        "log_Diabetes = np.log10(log_Diabetes+1)\n",
        "plt.hist(log_Diabetes, rwidth = 0.8)\n",
        "plt.xlabel('Death')\n",
        "plt.ylabel('count')\n",
        "plt.show() "
      ],
      "execution_count": null,
      "outputs": [
        {
          "output_type": "display_data",
          "data": {
            "image/png": "[encoded data removed]",
            "text/plain": [
              "<Figure size 432x288 with 1 Axes>"
            ]
          },
          "metadata": {
            "tags": [],
            "needs_background": "light"
          }
        }
      ]
    },
    {
      "cell_type": "markdown",
      "metadata": {
        "id": "gpYb3DcyyfPC"
      },
      "source": [
        "**Septicemia Column**"
      ]
    },
    {
      "cell_type": "code",
      "metadata": {
        "colab": {
          "base_uri": "https://localhost:8080/",
          "height": 279
        },
        "id": "d8KT4dzGBQVn",
        "outputId": "9590e75d-d4b5-4233-a48b-15e8f578b8ff"
      },
      "source": [
        "log_Septicemia = df['Septicemia..A40.A41.'].dropna()\n",
        "log_Septicemia = np.log10(log_Septicemia+1)\n",
        "plt.hist(log_Septicemia, rwidth = 0.8)\n",
        "plt.xlabel('Death')\n",
        "plt.ylabel('count')\n",
        "plt.show() "
      ],
      "execution_count": null,
      "outputs": [
        {
          "output_type": "display_data",
          "data": {
            "image/png": "[encoded data removed]",
            "text/plain": [
              "<Figure size 432x288 with 1 Axes>"
            ]
          },
          "metadata": {
            "tags": [],
            "needs_background": "light"
          }
        }
      ]
    },
    {
      "cell_type": "markdown",
      "metadata": {
        "id": "Il4-OGnbTUeE"
      },
      "source": [
        "*   By observing the above graph, we can clearly see that right skewness is removed."
      ]
    },
    {
      "cell_type": "markdown",
      "metadata": {
        "id": "GBetbnlmhS1_"
      },
      "source": [
        "# Distibution of data"
      ]
    },
    {
      "cell_type": "code",
      "metadata": {
        "colab": {
          "base_uri": "https://localhost:8080/",
          "height": 296
        },
        "id": "ZJv-kk9ClBAC",
        "outputId": "9f60089a-2438-4930-c35f-a45791b19459"
      },
      "source": [
        "from scipy.stats import norm\n",
        "\n",
        "plt.hist(l_NaturalCause, rwidth = 0.8, density=True)\n",
        "plt.xlabel('Death')\n",
        "plt.ylabel('count')\n",
        "\n",
        "rng = np.arange(l_NaturalCause.min(), l_NaturalCause.max(),0.1)\n",
        "plt.plot(rng,norm.pdf(rng, l_NaturalCause.mean(), l_NaturalCause.std()))"
      ],
      "execution_count": null,
      "outputs": [
        {
          "output_type": "execute_result",
          "data": {
            "text/plain": [
              "[<matplotlib.lines.Line2D at 0x7f427d194e50>]"
            ]
          },
          "metadata": {
            "tags": []
          },
          "execution_count": 32
        },
        {
          "output_type": "display_data",
          "data": {
            "image/png": "[encoded data removed]",
            "text/plain": [
              "<Figure size 432x288 with 1 Axes>"
            ]
          },
          "metadata": {
            "tags": [],
            "needs_background": "light"
          }
        }
      ]
    },
    {
      "cell_type": "code",
      "metadata": {
        "colab": {
          "base_uri": "https://localhost:8080/",
          "height": 296
        },
        "id": "k5HcXirZGcA9",
        "outputId": "6ffbac5c-957f-4cee-a167-2c43d603e210"
      },
      "source": [
        "from scipy.stats import norm\n",
        "\n",
        "plt.hist(log_Diabetes, rwidth = 0.8, density=True)\n",
        "plt.xlabel('Death')\n",
        "plt.ylabel('count')\n",
        "\n",
        "rng = np.arange(log_Diabetes.min(), log_Diabetes.max(),0.1)\n",
        "plt.plot(rng,norm.pdf(rng, log_Diabetes.mean(), log_Diabetes.std()))"
      ],
      "execution_count": null,
      "outputs": [
        {
          "output_type": "execute_result",
          "data": {
            "text/plain": [
              "[<matplotlib.lines.Line2D at 0x7f427d273b90>]"
            ]
          },
          "metadata": {
            "tags": []
          },
          "execution_count": 29
        },
        {
          "output_type": "display_data",
          "data": {
            "image/png": "[encoded data removed]",
            "text/plain": [
              "<Figure size 432x288 with 1 Axes>"
            ]
          },
          "metadata": {
            "tags": [],
            "needs_background": "light"
          }
        }
      ]
    },
    {
      "cell_type": "code",
      "metadata": {
        "colab": {
          "base_uri": "https://localhost:8080/",
          "height": 296
        },
        "id": "ge3cdlbbB4Bg",
        "outputId": "392b6f5a-c715-4f08-c7d6-a8af5f55a6a8"
      },
      "source": [
        "from scipy.stats import norm\n",
        "\n",
        "plt.hist(log_Septicemia, rwidth = 0.8, density=True)\n",
        "plt.xlabel('Death')\n",
        "plt.ylabel('count')\n",
        "\n",
        "rng = np.arange(log_Septicemia.min(), log_Septicemia.max(),0.1)\n",
        "plt.plot(rng,norm.pdf(rng, log_Septicemia.mean(), log_Septicemia.std()))"
      ],
      "execution_count": null,
      "outputs": [
        {
          "output_type": "execute_result",
          "data": {
            "text/plain": [
              "[<matplotlib.lines.Line2D at 0x7f427d0372d0>]"
            ]
          },
          "metadata": {
            "tags": []
          },
          "execution_count": 35
        },
        {
          "output_type": "display_data",
          "data": {
            "image/png": "[encoded data removed]",
            "text/plain": [
              "<Figure size 432x288 with 1 Axes>"
            ]
          },
          "metadata": {
            "tags": [],
            "needs_background": "light"
          }
        }
      ]
    },
    {
      "cell_type": "markdown",
      "metadata": {
        "id": "OPqxEsPuliKA"
      },
      "source": [
        "for the clear distrubiton of the data i draw the curve line to know the data variations due to natural cause in number of death"
      ]
    },
    {
      "cell_type": "markdown",
      "metadata": {
        "id": "eAHrSy1hlydD"
      },
      "source": [
        "# Outliers in column"
      ]
    },
    {
      "cell_type": "code",
      "metadata": {
        "colab": {
          "base_uri": "https://localhost:8080/",
          "height": 265
        },
        "id": "_2RKMyhvlr5U",
        "outputId": "7f13e668-c495-490a-cd92-c42279d01406"
      },
      "source": [
        "plt.boxplot(df.NaturalCause.dropna(), 1)\n",
        "plt.show()"
      ],
      "execution_count": null,
      "outputs": [
        {
          "output_type": "display_data",
          "data": {
            "image/png": "[encoded data removed]",
            "text/plain": [
              "<Figure size 432x288 with 1 Axes>"
            ]
          },
          "metadata": {
            "tags": [],
            "needs_background": "light"
          }
        }
      ]
    },
    {
      "cell_type": "markdown",
      "metadata": {
        "id": "YcSzPyvyl-G_"
      },
      "source": [
        "In the above graph we can  see that there are many outliers in dataset"
      ]
    },
    {
      "cell_type": "code",
      "metadata": {
        "colab": {
          "base_uri": "https://localhost:8080/",
          "height": 265
        },
        "id": "E8Uh3ZwUmQiV",
        "outputId": "5d2c41bd-d39a-4f45-df5d-55f44663eba5"
      },
      "source": [
        "plt.boxplot(l_NaturalCause, 1)\n",
        "plt.show()"
      ],
      "execution_count": null,
      "outputs": [
        {
          "output_type": "display_data",
          "data": {
            "image/png": "[encoded data removed]",
            "text/plain": [
              "<Figure size 432x288 with 1 Axes>"
            ]
          },
          "metadata": {
            "tags": [],
            "needs_background": "light"
          }
        }
      ]
    },
    {
      "cell_type": "markdown",
      "metadata": {
        "id": "HpAaso6VmSkT"
      },
      "source": [
        "From the above logarithm box plot of natural cause diseases,it is clrealy seen that no outliers in the data."
      ]
    },
    {
      "cell_type": "code",
      "metadata": {
        "colab": {
          "base_uri": "https://localhost:8080/",
          "height": 265
        },
        "id": "GlJBjmPWK9J9",
        "outputId": "549856dd-23c6-4d1e-8e69-5db84da30f90"
      },
      "source": [
        "plt.boxplot(df['Diabetes.mellitus..E10.E14.'].dropna(), 1)\n",
        "plt.show()"
      ],
      "execution_count": null,
      "outputs": [
        {
          "output_type": "display_data",
          "data": {
            "image/png": "[encoded data removed]",
            "text/plain": [
              "<Figure size 432x288 with 1 Axes>"
            ]
          },
          "metadata": {
            "tags": [],
            "needs_background": "light"
          }
        }
      ]
    },
    {
      "cell_type": "code",
      "metadata": {
        "colab": {
          "base_uri": "https://localhost:8080/",
          "height": 265
        },
        "id": "-CB0R91XLOMw",
        "outputId": "e2122f4f-3ffd-4b5f-ae87-b982c26614f9"
      },
      "source": [
        "plt.boxplot(log_Diabetes, 1)\n",
        "plt.show()"
      ],
      "execution_count": null,
      "outputs": [
        {
          "output_type": "display_data",
          "data": {
            "image/png": "[encoded data removed]",
            "text/plain": [
              "<Figure size 432x288 with 1 Axes>"
            ]
          },
          "metadata": {
            "tags": [],
            "needs_background": "light"
          }
        }
      ]
    },
    {
      "cell_type": "code",
      "metadata": {
        "colab": {
          "base_uri": "https://localhost:8080/",
          "height": 266
        },
        "id": "EXXiIdASLdx6",
        "outputId": "dee509f1-4ebc-473e-c94b-e0ce09672e52"
      },
      "source": [
        "plt.boxplot(df['Septicemia..A40.A41.'].dropna(), 1)\n",
        "plt.show()"
      ],
      "execution_count": null,
      "outputs": [
        {
          "output_type": "display_data",
          "data": {
            "image/png": "[encoded data removed]",
            "text/plain": [
              "<Figure size 432x288 with 1 Axes>"
            ]
          },
          "metadata": {
            "tags": [],
            "needs_background": "light"
          }
        }
      ]
    },
    {
      "cell_type": "markdown",
      "metadata": {
        "id": "gI0vbswzWuQ6"
      },
      "source": [
        "In the above graph, we can clearly see that there are so many outliers are identified."
      ]
    },
    {
      "cell_type": "code",
      "metadata": {
        "colab": {
          "base_uri": "https://localhost:8080/",
          "height": 265
        },
        "id": "kmA_3aNXME1s",
        "outputId": "e7f729cc-ad20-4649-e6f1-77a3e7fd3450"
      },
      "source": [
        "plt.boxplot(log_Septicemia, 1)\n",
        "plt.show()"
      ],
      "execution_count": null,
      "outputs": [
        {
          "output_type": "display_data",
          "data": {
            "image/png": "[encoded data removed]",
            "text/plain": [
              "<Figure size 432x288 with 1 Axes>"
            ]
          },
          "metadata": {
            "tags": [],
            "needs_background": "light"
          }
        }
      ]
    },
    {
      "cell_type": "markdown",
      "metadata": {
        "id": "8llcozGSW7L7"
      },
      "source": [
        "For log values indicator box plot, we can see that there are no outliers are seen."
      ]
    },
    {
      "cell_type": "markdown",
      "metadata": {
        "id": "adapktIhKw0V"
      },
      "source": [
        "# Plotting bar graph for categorical column values"
      ]
    },
    {
      "cell_type": "code",
      "metadata": {
        "colab": {
          "base_uri": "https://localhost:8080/",
          "height": 363
        },
        "id": "ZzbXPR28FWK5",
        "outputId": "c981152d-8b1b-45b3-f3fc-42bb1204938f"
      },
      "source": [
        "df['AgeGroup'].value_counts().plot.bar()"
      ],
      "execution_count": null,
      "outputs": [
        {
          "output_type": "execute_result",
          "data": {
            "text/plain": [
              "<matplotlib.axes._subplots.AxesSubplot at 0x7f0ab20ff5d0>"
            ]
          },
          "metadata": {
            "tags": []
          },
          "execution_count": 33
        },
        {
          "output_type": "display_data",
          "data": {
            "image/png": "[encoded data removed]",
            "text/plain": [
              "<Figure size 432x288 with 1 Axes>"
            ]
          },
          "metadata": {
            "tags": [],
            "needs_background": "light"
          }
        }
      ]
    },
    {
      "cell_type": "markdown",
      "metadata": {
        "id": "-JyL6PC-cH9d"
      },
      "source": [
        "by observing above bar graph it is clearly seen that each age group has similar death cause by various diseases."
      ]
    },
    {
      "cell_type": "markdown",
      "metadata": {
        "id": "ApwNfJQ-mgPI"
      },
      "source": [
        "**Univariate - categorical**"
      ]
    },
    {
      "cell_type": "code",
      "metadata": {
        "colab": {
          "base_uri": "https://localhost:8080/",
          "height": 508
        },
        "id": "cTBpi26QE1OZ",
        "outputId": "549d7c49-26b6-496c-8ed2-29900d7537ea"
      },
      "source": [
        "df['Race.Ethnicity'].value_counts().plot.bar()"
      ],
      "execution_count": null,
      "outputs": [
        {
          "output_type": "execute_result",
          "data": {
            "text/plain": [
              "<matplotlib.axes._subplots.AxesSubplot at 0x7f427cfd7390>"
            ]
          },
          "metadata": {
            "tags": []
          },
          "execution_count": 36
        },
        {
          "output_type": "display_data",
          "data": {
            "image/png": "[encoded data removed]",
            "text/plain": [
              "<Figure size 432x288 with 1 Axes>"
            ]
          },
          "metadata": {
            "tags": [],
            "needs_background": "light"
          }
        }
      ]
    },
    {
      "cell_type": "code",
      "metadata": {
        "colab": {
          "base_uri": "https://localhost:8080/"
        },
        "id": "KMrwzoeGKaXH",
        "outputId": "0d0c389c-2307-4b5c-e366-b7cc164b593f"
      },
      "source": [
        "df['Sex'].unique()"
      ],
      "execution_count": null,
      "outputs": [
        {
          "output_type": "execute_result",
          "data": {
            "text/plain": [
              "array(['F', 'M', 'Female', 'Male'], dtype=object)"
            ]
          },
          "metadata": {
            "tags": []
          },
          "execution_count": 62
        }
      ]
    },
    {
      "cell_type": "code",
      "metadata": {
        "colab": {
          "base_uri": "https://localhost:8080/",
          "height": 296
        },
        "id": "4KHZjLhOKumX",
        "outputId": "9f7e7527-e492-42ac-a9e8-5ab3f35d5b2f"
      },
      "source": [
        "sns.countplot(x = 'Sex', data = df)"
      ],
      "execution_count": null,
      "outputs": [
        {
          "output_type": "execute_result",
          "data": {
            "text/plain": [
              "<matplotlib.axes._subplots.AxesSubplot at 0x7fa04d850e10>"
            ]
          },
          "metadata": {
            "tags": []
          },
          "execution_count": 63
        },
        {
          "output_type": "display_data",
          "data": {
            "image/png": "[encoded data removed]",
            "text/plain": [
              "<Figure size 432x288 with 1 Axes>"
            ]
          },
          "metadata": {
            "tags": [],
            "needs_background": "light"
          }
        }
      ]
    },
    {
      "cell_type": "markdown",
      "metadata": {
        "id": "m5e-P2jK_UEa"
      },
      "source": [
        "# Finding CDF for age group (Bivariate)"
      ]
    },
    {
      "cell_type": "code",
      "metadata": {
        "colab": {
          "base_uri": "https://localhost:8080/"
        },
        "id": "KohW_CxC6A4o",
        "outputId": "b3df3a6b-c5f6-476e-d89e-3ebb2918c577"
      },
      "source": [
        "df['Sex'].describe()\n",
        "Natural_Cause = df['NaturalCause'].dropna()\n",
        "Natural_Cause.describe()\n"
      ],
      "execution_count": null,
      "outputs": [
        {
          "output_type": "execute_result",
          "data": {
            "text/plain": [
              "count     2717.000000\n",
              "mean      2194.944056\n",
              "std       5945.745418\n",
              "min          0.000000\n",
              "25%         70.000000\n",
              "50%        216.000000\n",
              "75%       1294.000000\n",
              "max      52054.000000\n",
              "Name: NaturalCause, dtype: float64"
            ]
          },
          "metadata": {
            "tags": []
          },
          "execution_count": 37
        }
      ]
    },
    {
      "cell_type": "code",
      "metadata": {
        "colab": {
          "base_uri": "https://localhost:8080/",
          "height": 283
        },
        "id": "fcLo1D3_Ftym",
        "outputId": "01cbcdff-58f7-4dfe-980b-115bb04136ed"
      },
      "source": [
        "male = df['Sex'] == 'M'\n",
        "Natural_Cause = df['Influenza.and.pneumonia..J09.J18.']\n",
        "male_death = Natural_Cause[male]\n",
        "female_death = Natural_Cause[~male]\n",
        "emp.Cdf.from_seq(male_death).plot(label = 'Male')\n",
        "emp.Cdf.from_seq(female_death).plot(label ='Female')\n",
        "plt.xlabel('Death')\n",
        "plt.ylabel('Cdf')\n",
        "plt.legend()\n",
        "plt.axis([0,600,0,1])\n",
        "plt.show()"
      ],
      "execution_count": null,
      "outputs": [
        {
          "output_type": "display_data",
          "data": {
            "image/png": "[encoded data removed]",
            "text/plain": [
              "<Figure size 432x288 with 1 Axes>"
            ]
          },
          "metadata": {
            "tags": [],
            "needs_background": "light"
          }
        }
      ]
    },
    {
      "cell_type": "markdown",
      "metadata": {
        "id": "ffMF-t8Dc4wG"
      },
      "source": [
        "From the above graph both male and female sex categories are almost parellel to each other. where we can see a tremondous increment are observed near 100 death count towords cdf o.4 to 0.9."
      ]
    },
    {
      "cell_type": "markdown",
      "metadata": {
        "id": "BS0EmLi6H5JP"
      },
      "source": [
        "# Finding CDF for gender. (Bivariate)"
      ]
    },
    {
      "cell_type": "code",
      "metadata": {
        "colab": {
          "base_uri": "https://localhost:8080/"
        },
        "id": "7mFUoWaoH7s0",
        "outputId": "b1e771b2-a287-421d-fe63-84a41ba5008c"
      },
      "source": [
        "df['Sex'].describe()\n",
        "Diabetes = df['Diabetes.mellitus..E10.E14.'].dropna()\n",
        "Diabetes.describe()"
      ],
      "execution_count": null,
      "outputs": [
        {
          "output_type": "execute_result",
          "data": {
            "text/plain": [
              "count    2127.000000\n",
              "mean       90.301834\n",
              "std       170.424524\n",
              "min         0.000000\n",
              "25%         0.000000\n",
              "50%        19.000000\n",
              "75%        97.000000\n",
              "max       984.000000\n",
              "Name: Diabetes.mellitus..E10.E14., dtype: float64"
            ]
          },
          "metadata": {
            "tags": []
          },
          "execution_count": 41
        }
      ]
    },
    {
      "cell_type": "markdown",
      "metadata": {
        "id": "bYE1OV_eaFOH"
      },
      "source": [
        "As age increase death ration also increase."
      ]
    },
    {
      "cell_type": "code",
      "metadata": {
        "colab": {
          "base_uri": "https://localhost:8080/",
          "height": 279
        },
        "id": "5JvBoFX4ISRS",
        "outputId": "18f31dab-fbe7-46c7-d245-876ddca8c553"
      },
      "source": [
        "male = df['Sex'] == 'M'\n",
        "Diabetes = df['Diabetes.mellitus..E10.E14.']\n",
        "male_death = Diabetes[male]\n",
        "female_death = Diabetes[~male]\n",
        "emp.Cdf.from_seq(male_death).plot(label = 'Male')\n",
        "emp.Cdf.from_seq(female_death).plot(label ='Female')\n",
        "plt.xlabel('Death')\n",
        "plt.ylabel('Cdf')\n",
        "plt.legend()\n",
        "plt.show()"
      ],
      "execution_count": null,
      "outputs": [
        {
          "output_type": "display_data",
          "data": {
            "image/png": "[encoded data removed]",
            "text/plain": [
              "<Figure size 432x288 with 1 Axes>"
            ]
          },
          "metadata": {
            "tags": [],
            "needs_background": "light"
          }
        }
      ]
    },
    {
      "cell_type": "markdown",
      "metadata": {
        "id": "fENNpM7oal6c"
      },
      "source": [
        "This data is going more towards right side. so it is now seems like normal distribution. "
      ]
    },
    {
      "cell_type": "markdown",
      "metadata": {
        "id": "mj7lTaCHIILQ"
      },
      "source": [
        "# Finding CDF for gender. (Bivariate)"
      ]
    },
    {
      "cell_type": "code",
      "metadata": {
        "colab": {
          "base_uri": "https://localhost:8080/"
        },
        "id": "EOPOMBtPIOPO",
        "outputId": "3feca0a4-d8aa-4bf8-b62b-e543630283ea"
      },
      "source": [
        "df['Sex'].describe()\n",
        "Septicemia = df['Septicemia..A40.A41.'].dropna()\n",
        "Septicemia.describe()"
      ],
      "execution_count": null,
      "outputs": [
        {
          "output_type": "execute_result",
          "data": {
            "text/plain": [
              "count    1736.000000\n",
              "mean       44.580069\n",
              "std        88.269978\n",
              "min         0.000000\n",
              "25%         0.000000\n",
              "50%        10.000000\n",
              "75%        36.000000\n",
              "max       484.000000\n",
              "Name: Septicemia..A40.A41., dtype: float64"
            ]
          },
          "metadata": {
            "tags": []
          },
          "execution_count": 52
        }
      ]
    },
    {
      "cell_type": "code",
      "metadata": {
        "colab": {
          "base_uri": "https://localhost:8080/",
          "height": 279
        },
        "id": "3zq6OjyiIq5l",
        "outputId": "b5e1080f-e27f-4793-bbd1-3a29e0768e4b"
      },
      "source": [
        "male = df['Sex'] == 'M'\n",
        "Septicemia = df['Septicemia..A40.A41.']\n",
        "male_death = Septicemia[male]\n",
        "female_death = Septicemia[~male]\n",
        "emp.Cdf.from_seq(male_death).plot(label = 'Male')\n",
        "emp.Cdf.from_seq(female_death).plot(label ='Female')\n",
        "plt.xlabel('Death')\n",
        "plt.ylabel('Cdf')\n",
        "plt.legend()\n",
        "plt.show()"
      ],
      "execution_count": null,
      "outputs": [
        {
          "output_type": "display_data",
          "data": {
            "image/png": "[encoded data removed]",
            "text/plain": [
              "<Figure size 432x288 with 1 Axes>"
            ]
          },
          "metadata": {
            "tags": [],
            "needs_background": "light"
          }
        }
      ]
    },
    {
      "cell_type": "markdown",
      "metadata": {
        "id": "GikSp7otYASL"
      },
      "source": [
        "In the above line graph, both Male and Female sex categories are almost parellel to each other in propotion to number of deaths. Where we can see rapid change are observed at the count of 100 and cdf is increased at 0.9."
      ]
    },
    {
      "cell_type": "code",
      "metadata": {
        "colab": {
          "base_uri": "https://localhost:8080/",
          "height": 283
        },
        "id": "Yarvvz7W_pAg",
        "outputId": "8dd0a3b1-9c96-474e-d0e4-8666fccd7c1d"
      },
      "source": [
        "l_NaturalCause = df.NaturalCause.dropna()\n",
        "l_NaturalCause = np.log10(l_NaturalCause+1)\n",
        "plt.hist(l_NaturalCause, rwidth = 0.6)\n",
        "plt.xlabel('Death')\n",
        "plt.ylabel('count')\n",
        "plt.show() "
      ],
      "execution_count": null,
      "outputs": [
        {
          "output_type": "display_data",
          "data": {
            "image/png": "[encoded data removed]",
            "text/plain": [
              "<Figure size 432x288 with 1 Axes>"
            ]
          },
          "metadata": {
            "tags": [],
            "needs_background": "light"
          }
        }
      ]
    },
    {
      "cell_type": "markdown",
      "metadata": {
        "id": "CsAoh04CEW5c"
      },
      "source": [
        "# Bivariate - Realtionship between two numeric variables"
      ]
    },
    {
      "cell_type": "code",
      "metadata": {
        "colab": {
          "base_uri": "https://localhost:8080/",
          "height": 284
        },
        "id": "oP7U2KKGBby4",
        "outputId": "c2c93c4a-7bc1-4b0b-bc00-250d7f8f41ec"
      },
      "source": [
        "from scipy.stats import linregress\n",
        "\n",
        "subset = df.dropna(subset=['NaturalCause', 'Chronic.lower.respiratory.diseases..J40.J47.'])\n",
        "xs = subset['NaturalCause']\n",
        "ys = subset['Chronic.lower.respiratory.diseases..J40.J47.']\n",
        "res = linregress(xs,ys)\n",
        "print(res)\n",
        "plt.scatter(df['NaturalCause'],df['Chronic.lower.respiratory.diseases..J40.J47.'])\n",
        "plt.show()\n"
      ],
      "execution_count": null,
      "outputs": [
        {
          "output_type": "stream",
          "text": [
            "LinregressResult(slope=0.05948142118189945, intercept=-16.54193813580744, rvalue=0.9459405734311281, pvalue=0.0, stderr=0.0005031520020455584)\n"
          ],
          "name": "stdout"
        },
        {
          "output_type": "display_data",
          "data": {
            "image/png": "[encoded data removed]",
            "text/plain": [
              "<Figure size 432x288 with 1 Axes>"
            ]
          },
          "metadata": {
            "tags": [],
            "needs_background": "light"
          }
        }
      ]
    },
    {
      "cell_type": "markdown",
      "metadata": {
        "id": "L9VtVHrhKCno"
      },
      "source": [
        "from the above plot we can see that there is a positive relationship. and we can say that from 100  people only 5 people die due to this diseases."
      ]
    },
    {
      "cell_type": "markdown",
      "metadata": {
        "id": "ATnY63PxJ6vQ"
      },
      "source": [
        "**Relation between death due to sex and Other.diseases.of.respiratory.system..J00.J06.J30.J39.J67.J70.J98.**\n",
        "\n",
        "---\n",
        "\n"
      ]
    },
    {
      "cell_type": "code",
      "metadata": {
        "colab": {
          "base_uri": "https://localhost:8080/",
          "height": 302
        },
        "id": "jcwSEus1KP-_",
        "outputId": "4f0707c5-d367-4a98-87a8-beeaa1973166"
      },
      "source": [
        "from scipy.stats import linregress\n",
        "\n",
        "subset = df.dropna(subset=['Diabetes.mellitus..E10.E14.', 'Other.diseases.of.respiratory.system..J00.J06.J30.J39.J67.J70.J98.'])\n",
        "xs = subset['Diabetes.mellitus..E10.E14.']\n",
        "ys = subset['Other.diseases.of.respiratory.system..J00.J06.J30.J39.J67.J70.J98.']\n",
        "res = linregress(xs,ys)\n",
        "print(res)\n",
        "plt.scatter(nd['Diabetes.mellitus..E10.E14.'],nd['Other.diseases.of.respiratory.system..J00.J06.J30.J39.J67.J70.J98.'])\n",
        "plt.show()"
      ],
      "execution_count": null,
      "outputs": [
        {
          "output_type": "stream",
          "text": [
            "LinregressResult(slope=0.5953009542129586, intercept=-14.669008773654802, rvalue=0.9222816988766018, pvalue=0.0, stderr=0.006703757039778041)\n"
          ],
          "name": "stdout"
        },
        {
          "output_type": "display_data",
          "data": {
            "image/png": "[encoded data removed]",
            "text/plain": [
              "<Figure size 432x288 with 1 Axes>"
            ]
          },
          "metadata": {
            "tags": [],
            "needs_background": "light"
          }
        }
      ]
    },
    {
      "cell_type": "markdown",
      "metadata": {
        "id": "K0IEt3xs8zES"
      },
      "source": [
        "By observing the above plot, linear regression result is clearly mentioned where there is a positive relationship is observed."
      ]
    },
    {
      "cell_type": "markdown",
      "metadata": {
        "id": "3xrX4SwBNDDw"
      },
      "source": [
        "**Two Numeric Variables**"
      ]
    },
    {
      "cell_type": "code",
      "metadata": {
        "colab": {
          "base_uri": "https://localhost:8080/",
          "height": 305
        },
        "id": "_AVzd5dJKNu1",
        "outputId": "13a3d42c-bdd5-4554-c0d4-45d05e1716fd"
      },
      "source": [
        "from scipy.stats import linregress\n",
        "\n",
        "subset = df.dropna(subset=['Septicemia..A40.A41.', 'Cerebrovascular.diseases..I60.I69.'])\n",
        "xs = subset['Septicemia..A40.A41.']\n",
        "ys = subset['Cerebrovascular.diseases..I60.I69.']\n",
        "res = linregress(xs,ys)\n",
        "\n",
        "print(res)\n",
        "\n",
        "plt.scatter(df['Septicemia..A40.A41.'],df['Cerebrovascular.diseases..I60.I69.'])\n",
        "plt.show()"
      ],
      "execution_count": null,
      "outputs": [
        {
          "output_type": "stream",
          "text": [
            "LinregressResult(slope=4.5486289915777345, intercept=-32.74336470175456, rvalue=0.8847226655884118, pvalue=0.0, stderr=0.06474537751401645)\n"
          ],
          "name": "stdout"
        },
        {
          "output_type": "display_data",
          "data": {
            "image/png": "[encoded data removed]",
            "text/plain": [
              "<Figure size 432x288 with 1 Axes>"
            ]
          },
          "metadata": {
            "tags": [],
            "needs_background": "light"
          }
        }
      ]
    },
    {
      "cell_type": "markdown",
      "metadata": {
        "id": "4lgVoGsrXKgL"
      },
      "source": [
        "From the above scatter plot, we can say that there is a positive relationship observed. Also I found corelation between two numeric variables, which are 'Septicemia' and 'Cerebrovascular' diseases."
      ]
    },
    {
      "cell_type": "markdown",
      "metadata": {
        "id": "Ofd3ZudHJhax"
      },
      "source": [
        "**Relation between Cerebrovascular diseases and total death due to death by disease (Bivariate - Two numeric)**"
      ]
    },
    {
      "cell_type": "code",
      "metadata": {
        "colab": {
          "base_uri": "https://localhost:8080/",
          "height": 400
        },
        "id": "d3cMoHG2NIeK",
        "outputId": "c7b70c84-7eb6-43be-d681-227276730e96"
      },
      "source": [
        "sns.relplot(x = 'Diabetes.mellitus..E10.E14.', y ='Diseases.of.heart..I00.I09.I11.I13.I20.I51.', data = df)"
      ],
      "execution_count": null,
      "outputs": [
        {
          "output_type": "execute_result",
          "data": {
            "text/plain": [
              "<seaborn.axisgrid.FacetGrid at 0x7fa04d8d3550>"
            ]
          },
          "metadata": {
            "tags": []
          },
          "execution_count": 66
        },
        {
          "output_type": "display_data",
          "data": {
            "image/png": "[encoded data removed]",
            "text/plain": [
              "<Figure size 360x360 with 1 Axes>"
            ]
          },
          "metadata": {
            "tags": [],
            "needs_background": "light"
          }
        }
      ]
    },
    {
      "cell_type": "markdown",
      "metadata": {
        "id": "h2q3N9S799DU"
      },
      "source": [
        "# Bivarite - One Numeric and One Categorical variable"
      ]
    },
    {
      "cell_type": "code",
      "metadata": {
        "colab": {
          "base_uri": "https://localhost:8080/",
          "height": 281
        },
        "id": "Pd8GenGA3d3q",
        "outputId": "cbe4d311-1f3e-44be-affc-d29b39c8877d"
      },
      "source": [
        "from empiricaldist import Pmf\n",
        "plt.barh(df['Date.Of.Death.Year'], df['NaturalCause'])\n",
        "# Label the axes\n",
        "plt.xlabel('NaturalCausedeath')\n",
        "plt.ylabel('death year')\n",
        "plt.show()"
      ],
      "execution_count": null,
      "outputs": [
        {
          "output_type": "display_data",
          "data": {
            "image/png": "[encoded data removed]",
            "text/plain": [
              "<Figure size 432x288 with 1 Axes>"
            ]
          },
          "metadata": {
            "tags": [],
            "needs_background": "light"
          }
        }
      ]
    },
    {
      "cell_type": "markdown",
      "metadata": {
        "id": "W-pveYFa-L6j"
      },
      "source": [
        "From the above visulization, we can easily see that more than 50000 deaths are identified in the year of 2020 and  its the highest among all year. "
      ]
    },
    {
      "cell_type": "markdown",
      "metadata": {
        "id": "Sc1EIExTHIai"
      },
      "source": [
        "**Relation between number of death due to Influenza and pneumonia and Age group**"
      ]
    },
    {
      "cell_type": "code",
      "metadata": {
        "colab": {
          "base_uri": "https://localhost:8080/",
          "height": 279
        },
        "id": "5BZ0S_7SG4Qj",
        "outputId": "7b8919d6-1fe2-4114-ef11-561bf8764530"
      },
      "source": [
        "from empiricaldist import Pmf\n",
        "plt.barh(nd['AgeGroup'], df['Influenza.and.pneumonia..J09.J18.'])\n",
        "# Label the axes\n",
        "plt.xlabel('Death')\n",
        "plt.ylabel('AgeGroup')\n",
        "plt.show()"
      ],
      "execution_count": null,
      "outputs": [
        {
          "output_type": "display_data",
          "data": {
            "image/png": "[encoded data removed]",
            "text/plain": [
              "<Figure size 432x288 with 1 Axes>"
            ]
          },
          "metadata": {
            "tags": [],
            "needs_background": "light"
          }
        }
      ]
    },
    {
      "cell_type": "markdown",
      "metadata": {
        "id": "2DV3VRXnP7As"
      },
      "source": [
        "The Natural death rate of female are higher than in Male."
      ]
    },
    {
      "cell_type": "markdown",
      "metadata": {
        "id": "xcIyeL63FQUw"
      },
      "source": [
        "**Relation between number of death due to Chronic diseases and Age group (Bivariate - two numeric variable)**"
      ]
    },
    {
      "cell_type": "code",
      "metadata": {
        "colab": {
          "base_uri": "https://localhost:8080/",
          "height": 279
        },
        "id": "BGe0oHD1FqKz",
        "outputId": "e42e18bd-b4b6-4778-e0fc-ecd1a7b67e60"
      },
      "source": [
        "from empiricaldist import Pmf\n",
        "plt.barh(df['AgeGroup'], df['Chronic.lower.respiratory.diseases..J40.J47.'])\n",
        "# Label the axes\n",
        "plt.xlabel('Death')\n",
        "plt.ylabel('AgeGroup')\n",
        "plt.show()"
      ],
      "execution_count": null,
      "outputs": [
        {
          "output_type": "display_data",
          "data": {
            "image/png": "[encoded data removed]",
            "text/plain": [
              "<Figure size 432x288 with 1 Axes>"
            ]
          },
          "metadata": {
            "tags": [],
            "needs_background": "light"
          }
        }
      ]
    },
    {
      "cell_type": "markdown",
      "metadata": {
        "id": "yg_Vk6cfZQyW"
      },
      "source": [
        "By analyzing above visual represantation, very high death counts are identified in the age group of 75-84 years. In the contrast, very low death rate under 50 is observed in 35-44 years age group. On the other side no singke deaths are observed for below the age of 34."
      ]
    },
    {
      "cell_type": "code",
      "metadata": {
        "colab": {
          "base_uri": "https://localhost:8080/"
        },
        "id": "N8cLdVJYMGcU",
        "outputId": "a23e3472-64d9-4c70-c50a-e519dadd1498"
      },
      "source": [
        "df['Sex'].unique()"
      ],
      "execution_count": null,
      "outputs": [
        {
          "output_type": "execute_result",
          "data": {
            "text/plain": [
              "array(['F', 'M', 'Female', 'Male'], dtype=object)"
            ]
          },
          "metadata": {
            "tags": []
          },
          "execution_count": 44
        }
      ]
    },
    {
      "cell_type": "code",
      "metadata": {
        "colab": {
          "base_uri": "https://localhost:8080/",
          "height": 351
        },
        "id": "M4364A1TMa3t",
        "outputId": "daa15695-802f-474c-bb86-3cf7cf13614c"
      },
      "source": [
        "plt.figure(figsize=(12,5))\n",
        "sns.boxplot(x = \"Sex\", y = \"NaturalCause\", data=df)"
      ],
      "execution_count": null,
      "outputs": [
        {
          "output_type": "execute_result",
          "data": {
            "text/plain": [
              "<matplotlib.axes._subplots.AxesSubplot at 0x7f427a889390>"
            ]
          },
          "metadata": {
            "tags": []
          },
          "execution_count": 45
        },
        {
          "output_type": "display_data",
          "data": {
            "image/png": "[encoded data removed]",
            "text/plain": [
              "<Figure size 864x360 with 1 Axes>"
            ]
          },
          "metadata": {
            "tags": [],
            "needs_background": "light"
          }
        }
      ]
    }
  ]
}